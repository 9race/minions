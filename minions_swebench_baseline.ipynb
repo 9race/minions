{
 "cells": [
  {
   "cell_type": "markdown",
   "metadata": {},
   "source": [
    "### Imports"
   ]
  },
  {
   "cell_type": "code",
   "execution_count": 1,
   "metadata": {},
   "outputs": [],
   "source": [
    "# Misc imports\n",
    "import os\n",
    "import json\n",
    "import pandas as pd\n",
    "import csv\n",
    "from tqdm import tqdm\n",
    "\n",
    "# Import Minions + Minions\n",
    "from minions.minions import Minions\n",
    "from minions.minion import Minion\n",
    "\n",
    "# Import Minion Clients\n",
    "from minions.clients.ollama import OllamaClient\n",
    "from minions.clients.tokasaurus import TokasaurusClient\n",
    "from minions.clients.openai import OpenAIClient\n",
    "from minions.clients.anthropic import AnthropicClient\n",
    "from minions.clients.together import TogetherClient\n",
    "\n",
    "# Import Pydantic\n",
    "from pydantic import BaseModel"
   ]
  },
  {
   "cell_type": "markdown",
   "metadata": {},
   "source": [
    "### Configure Clients\n"
   ]
  },
  {
   "cell_type": "markdown",
   "metadata": {},
   "source": [
    "1. Specify structured output schema for the OllamaClient. Run this block as is! Do _NOT_ make any modifications\n"
   ]
  },
  {
   "cell_type": "code",
   "execution_count": 2,
   "metadata": {},
   "outputs": [],
   "source": [
    "class StructuredLocalOutput(BaseModel):\n",
    "    explanation: str\n",
    "    citation: str | None\n",
    "    answer: str | None"
   ]
  },
  {
   "cell_type": "markdown",
   "metadata": {},
   "source": [
    "2. Instantiate Clients: Here we instantiate our local client to be ollama and remote client to be OpenAI\n"
   ]
  },
  {
   "cell_type": "code",
   "execution_count": 3,
   "metadata": {},
   "outputs": [],
   "source": [
    "remote_client = OpenAIClient(model_name=\"gpt-4o\", temperature=0.0)\n",
    "\n",
    "# Option 1: Ollama\n",
    "local_client = OllamaClient(\n",
    "    model_name=\"qwen2.5-coder\", \n",
    "    temperature=0.0, \n",
    "    structured_output_schema=StructuredLocalOutput\n",
    ")\n",
    "\n",
    "# option 2\n",
    "# local_client = TokasaurusClient(\n",
    "#     model_name=\"meta-llama/Llama-3.2-1B-Instruct\",\n",
    "#     temperature=0.0,\n",
    "#     # Structured outputs are not yet supported with tokasaurus\n",
    "#     # structured_output_schema=StructuredLocalOutput\n",
    "# )\n",
    "\n"
   ]
  },
  {
   "cell_type": "markdown",
   "metadata": {},
   "source": [
    "### Set-up Communication Protocol\n"
   ]
  },
  {
   "cell_type": "code",
   "execution_count": 4,
   "metadata": {},
   "outputs": [],
   "source": [
    "# Option 1: Minions\n",
    "# protocol = Minions(local_client=local_client, remote_client=remote_client)\n",
    "\n",
    "# Option 2: Minion\n",
    "protocol = Minion(local_client=local_client, remote_client=remote_client)\n",
    "    "
   ]
  },
  {
   "cell_type": "markdown",
   "metadata": {},
   "source": [
    "### Configure Minion/Minions Task\n",
    "\n",
    "- context (List[str]): context that the minions need to reason over\n",
    "- doc_metadata (str): every task is parameterized by doc_metadata which describes the \"type\" of information contained in the context\n",
    "- task (str): description of the query to be completed over the context\n"
   ]
  },
  {
   "cell_type": "markdown",
   "metadata": {},
   "source": [
    "#### Specify swebench task\n"
   ]
  },
  {
   "cell_type": "code",
   "execution_count": 5,
   "metadata": {},
   "outputs": [
    {
     "name": "stderr",
     "output_type": "stream",
     "text": [
      "0it [00:00, ?it/s]"
     ]
    },
    {
     "name": "stdout",
     "output_type": "stream",
     "text": [
      "entering loop with max_rounds:  5\n",
      "getting worker's response\n"
     ]
    },
    {
     "name": "stderr",
     "output_type": "stream",
     "text": [
      "1it [00:09,  9.26s/it]"
     ]
    },
    {
     "name": "stdout",
     "output_type": "stream",
     "text": [
      "Supervisor_json: {'decision': 'provide_final_answer', 'answer': \"Based on the small language model's analysis, no errors were found in the functions provided in the Python script for the matplotlib plotting library. The code appears to be well-structured and follows best practices for Python programming. Therefore, no code fixes are necessary.\"}\n",
      "entering loop with max_rounds:  5\n",
      "getting worker's response\n",
      "Supervisor_json: {'decision': 'request_additional_info', 'message': \"Please provide the complete code for the functions 'load_data', 'clean_data', 'analyze_data', and 'visualize_results' so that I can identify any errors and suggest fixes.\"}\n",
      "getting worker's response\n",
      "Supervisor_json: {'decision': 'request_additional_info', 'message': \"Please provide the complete code for the functions 'load_data', 'clean_data', 'analyze_data', and 'visualize_results' so that I can identify any errors and suggest fixes. Without the actual code, it is not possible to perform the task.\"}\n",
      "getting worker's response\n"
     ]
    },
    {
     "name": "stderr",
     "output_type": "stream",
     "text": [
      "2it [00:24, 12.67s/it]"
     ]
    },
    {
     "name": "stdout",
     "output_type": "stream",
     "text": [
      "Supervisor_json: {'decision': 'provide_final_answer', 'answer': \"The task cannot be completed because the actual implementations of the functions 'load_data', 'clean_data', 'analyze_data', and 'visualize_results' are not provided. Without the code, it is impossible to identify any errors or suggest fixes.\"}\n",
      "entering loop with max_rounds:  5\n",
      "getting worker's response\n",
      "Supervisor_json: {'decision': 'request_additional_info', 'message': \"Please provide the complete code for the functions 'load_data', 'clean_data', 'analyze_data', and 'visualize_results' so that I can identify any errors and propose fixes.\"}\n",
      "getting worker's response\n",
      "Supervisor_json: {'decision': 'request_additional_info', 'message': \"Please provide the complete code implementations for the functions 'load_data', 'clean_data', 'analyze_data', and 'visualize_results' so that I can identify any errors and propose fixes.\"}\n",
      "getting worker's response\n"
     ]
    },
    {
     "name": "stderr",
     "output_type": "stream",
     "text": [
      "3it [00:37, 13.07s/it]"
     ]
    },
    {
     "name": "stdout",
     "output_type": "stream",
     "text": [
      "Supervisor_json: {'decision': 'provide_final_answer', 'answer': \"The task cannot be completed because the implementations of the functions 'load_data', 'clean_data', 'analyze_data', and 'visualize_results' are not provided. Without the actual code, it is impossible to identify any errors or propose fixes.\"}\n",
      "entering loop with max_rounds:  5\n",
      "getting worker's response\n",
      "Supervisor_json: {'decision': 'request_additional_info', 'message': \"Please provide the complete code for the functions 'load_data', 'clean_data', 'analyze_data', and 'visualize_results' so that I can identify any errors and suggest fixes.\"}\n",
      "getting worker's response\n"
     ]
    },
    {
     "name": "stderr",
     "output_type": "stream",
     "text": [
      "4it [00:47, 11.67s/it]"
     ]
    },
    {
     "name": "stdout",
     "output_type": "stream",
     "text": [
      "Supervisor_json: {'decision': 'provide_final_answer', 'answer': \"The task cannot be completed because the definitions of the functions 'load_data', 'clean_data', 'analyze_data', and 'visualize_results' are not provided. Without the actual code, it is impossible to identify any errors or suggest fixes for these functions.\"}\n",
      "entering loop with max_rounds:  5\n",
      "getting worker's response\n",
      "Supervisor_json: {'decision': 'request_additional_info', 'message': \"Please provide the complete code for the functions 'load_data', 'clean_data', 'analyze_data', and 'visualize_results' so that I can identify any errors and suggest fixes.\"}\n",
      "getting worker's response\n"
     ]
    },
    {
     "name": "stderr",
     "output_type": "stream",
     "text": [
      "5it [00:57, 11.23s/it]"
     ]
    },
    {
     "name": "stdout",
     "output_type": "stream",
     "text": [
      "Supervisor_json: {'decision': 'provide_final_answer', 'answer': \"The task cannot be completed as the necessary code for the functions 'load_data', 'clean_data', 'analyze_data', and 'visualize_results' is not provided. Without the implementations of these functions, it is impossible to identify any errors or suggest fixes. The provided code snippet only includes a module related to Motzkin numbers, which does not contain the mentioned functions.\"}\n",
      "entering loop with max_rounds:  5\n",
      "getting worker's response\n"
     ]
    },
    {
     "name": "stderr",
     "output_type": "stream",
     "text": [
      "6it [01:03,  9.44s/it]"
     ]
    },
    {
     "name": "stdout",
     "output_type": "stream",
     "text": [
      "Supervisor_json: {'decision': 'provide_final_answer', 'answer': 'No functions contain errors in the provided code snippet.'}\n",
      "entering loop with max_rounds:  5\n",
      "getting worker's response\n",
      "Supervisor_json: {'decision': 'request_additional_info', 'message': \"Please provide the complete code for the functions 'load_data', 'clean_data', 'analyze_data', and 'visualize_results' so that I can identify any errors and propose fixes.\"}\n",
      "getting worker's response\n"
     ]
    },
    {
     "name": "stderr",
     "output_type": "stream",
     "text": [
      "7it [01:15, 10.22s/it]"
     ]
    },
    {
     "name": "stdout",
     "output_type": "stream",
     "text": [
      "Supervisor_json: {'decision': 'provide_final_answer', 'answer': \"The task cannot be completed because the actual code for the functions 'load_data', 'clean_data', 'analyze_data', and 'visualize_results' was not provided. Without the code, it is impossible to identify errors or propose fixes.\"}\n",
      "entering loop with max_rounds:  5\n",
      "getting worker's response\n",
      "Supervisor_json: {'decision': 'request_additional_info', 'message': \"Please provide the complete code for the functions 'load_data', 'clean_data', 'analyze_data', and 'visualize_results' so that I can identify any errors and propose fixes.\"}\n",
      "getting worker's response\n"
     ]
    },
    {
     "name": "stderr",
     "output_type": "stream",
     "text": [
      "8it [01:27, 10.81s/it]"
     ]
    },
    {
     "name": "stdout",
     "output_type": "stream",
     "text": [
      "Supervisor_json: {'decision': 'provide_final_answer', 'answer': \"The task cannot be completed as the actual code for the functions 'load_data', 'clean_data', 'analyze_data', and 'visualize_results' is not provided. Without the code, it is impossible to identify errors or propose fixes. Please provide the complete code for these functions to proceed with the analysis.\"}\n",
      "entering loop with max_rounds:  5\n",
      "getting worker's response\n",
      "Supervisor_json: {'decision': 'request_additional_info', 'message': \"Please provide the complete code for the functions 'load_data', 'clean_data', 'analyze_data', and 'visualize_results' so that I can identify any errors and propose fixes.\"}\n",
      "getting worker's response\n",
      "Supervisor_json: {'decision': 'request_additional_info', 'message': \"Please provide the full code implementations for the functions 'load_data', 'clean_data', 'analyze_data', and 'visualize_results' so that I can identify any errors and propose fixes.\"}\n",
      "getting worker's response\n"
     ]
    },
    {
     "name": "stderr",
     "output_type": "stream",
     "text": [
      "9it [01:41, 11.81s/it]"
     ]
    },
    {
     "name": "stdout",
     "output_type": "stream",
     "text": [
      "Supervisor_json: {'decision': 'provide_final_answer', 'answer': \"The task cannot be completed because the code implementations for the functions 'load_data', 'clean_data', 'analyze_data', and 'visualize_results' are not provided. Without the actual code, it is impossible to identify any errors or propose fixes.\"}\n",
      "entering loop with max_rounds:  5\n",
      "getting worker's response\n"
     ]
    },
    {
     "name": "stderr",
     "output_type": "stream",
     "text": [
      "10it [01:46,  9.50s/it]"
     ]
    },
    {
     "name": "stdout",
     "output_type": "stream",
     "text": [
      "Supervisor_json: {'decision': 'provide_final_answer', 'answer': 'No functions with errors were identified in the provided code. The code appears to be well-structured and free of logical or syntactical errors.'}\n",
      "entering loop with max_rounds:  5\n",
      "getting worker's response\n",
      "Supervisor_json: {'decision': 'request_additional_info', 'message': \"Please provide the complete code for the functions 'load_data', 'clean_data', 'analyze_data', and 'visualize_results' so that I can identify any errors and propose fixes.\"}\n",
      "getting worker's response\n"
     ]
    },
    {
     "name": "stderr",
     "output_type": "stream",
     "text": [
      "11it [01:58, 10.55s/it]"
     ]
    },
    {
     "name": "stdout",
     "output_type": "stream",
     "text": [
      "Supervisor_json: {'decision': 'provide_final_answer', 'answer': \"The task cannot be completed as the actual implementations of the functions 'load_data', 'clean_data', 'analyze_data', and 'visualize_results' are not provided. Without the code, it is impossible to identify errors or propose fixes.\"}\n",
      "entering loop with max_rounds:  5\n",
      "getting worker's response\n",
      "Supervisor_json: {'decision': 'request_additional_info', 'message': \"Please provide the complete code for the functions 'load_data', 'clean_data', 'analyze_data', and 'visualize_results' so that I can identify any errors and propose fixes.\"}\n",
      "getting worker's response\n"
     ]
    },
    {
     "name": "stderr",
     "output_type": "stream",
     "text": [
      "12it [02:09, 10.68s/it]"
     ]
    },
    {
     "name": "stdout",
     "output_type": "stream",
     "text": [
      "Supervisor_json: {'decision': 'provide_final_answer', 'answer': \"The task cannot be completed because the definitions of the functions 'load_data', 'clean_data', 'analyze_data', and 'visualize_results' are not provided. Without the actual code, it is impossible to identify any errors or propose fixes. Additional information or the complete code is required to proceed with the task.\"}\n",
      "entering loop with max_rounds:  5\n",
      "getting worker's response\n"
     ]
    },
    {
     "name": "stderr",
     "output_type": "stream",
     "text": [
      "13it [02:14,  8.73s/it]"
     ]
    },
    {
     "name": "stdout",
     "output_type": "stream",
     "text": [
      "Supervisor_json: {'decision': 'provide_final_answer', 'answer': 'No functions contain errors.'}\n",
      "entering loop with max_rounds:  5\n",
      "getting worker's response\n",
      "Supervisor_json: {'decision': 'request_additional_info', 'message': \"Please provide the complete code for the functions 'load_data', 'clean_data', 'analyze_data', and 'visualize_results' so that I can identify any errors and suggest fixes.\"}\n",
      "getting worker's response\n",
      "Supervisor_json: {'decision': 'request_additional_info', 'message': \"Please provide the complete code for the functions 'load_data', 'clean_data', 'analyze_data', and 'visualize_results' so that I can identify any errors and suggest fixes. Without the actual code, it is not possible to determine the presence of errors or propose corrections.\"}\n",
      "getting worker's response\n"
     ]
    },
    {
     "name": "stderr",
     "output_type": "stream",
     "text": [
      "14it [02:30, 10.91s/it]"
     ]
    },
    {
     "name": "stdout",
     "output_type": "stream",
     "text": [
      "Supervisor_json: {'decision': 'provide_final_answer', 'answer': \"The task cannot be completed because the actual code for the functions 'load_data', 'clean_data', 'analyze_data', and 'visualize_results' has not been provided. Without the code, it is impossible to identify any errors or suggest fixes. Please provide the complete code for these functions to proceed with the analysis.\"}\n",
      "entering loop with max_rounds:  5\n",
      "getting worker's response\n"
     ]
    },
    {
     "name": "stderr",
     "output_type": "stream",
     "text": [
      "14it [02:35, 11.12s/it]"
     ]
    },
    {
     "name": "stdout",
     "output_type": "stream",
     "text": [
      "Supervisor_json: {'decision': 'request_additional_info', 'message': \"Please provide the complete code for the functions 'load_data', 'clean_data', 'analyze_data', and 'visualize_results' so that I can identify any errors and propose fixes.\"}\n",
      "getting worker's response\n"
     ]
    },
    {
     "name": "stderr",
     "output_type": "stream",
     "text": [
      "\n"
     ]
    },
    {
     "ename": "KeyboardInterrupt",
     "evalue": "",
     "output_type": "error",
     "traceback": [
      "\u001b[0;31m---------------------------------------------------------------------------\u001b[0m",
      "\u001b[0;31mKeyboardInterrupt\u001b[0m                         Traceback (most recent call last)",
      "Cell \u001b[0;32mIn[5], line 18\u001b[0m\n\u001b[1;32m     15\u001b[0m     \u001b[38;5;28;01mfor\u001b[39;00m row \u001b[38;5;129;01min\u001b[39;00m tqdm(reader):\n\u001b[1;32m     16\u001b[0m         code_context \u001b[38;5;241m=\u001b[39m [row[\u001b[38;5;241m1\u001b[39m]]  \u001b[38;5;66;03m# row[1] contains the modified/buggy code\u001b[39;00m\n\u001b[0;32m---> 18\u001b[0m         output \u001b[38;5;241m=\u001b[39m \u001b[43mprotocol\u001b[49m\u001b[43m(\u001b[49m\n\u001b[1;32m     19\u001b[0m \u001b[43m            \u001b[49m\u001b[43mtask\u001b[49m\u001b[38;5;241;43m=\u001b[39;49m\u001b[43mtask\u001b[49m\u001b[43m,\u001b[49m\n\u001b[1;32m     20\u001b[0m \u001b[43m            \u001b[49m\u001b[43mdoc_metadata\u001b[49m\u001b[38;5;241;43m=\u001b[39;49m\u001b[43mdoc_metadata\u001b[49m\u001b[43m,\u001b[49m\n\u001b[1;32m     21\u001b[0m \u001b[43m            \u001b[49m\u001b[43mcontext\u001b[49m\u001b[38;5;241;43m=\u001b[39;49m\u001b[43mcode_context\u001b[49m\u001b[43m,\u001b[49m\n\u001b[1;32m     22\u001b[0m \u001b[43m            \u001b[49m\u001b[43mmax_rounds\u001b[49m\u001b[38;5;241;43m=\u001b[39;49m\u001b[38;5;241;43m5\u001b[39;49m\u001b[43m,\u001b[49m\n\u001b[1;32m     23\u001b[0m \u001b[43m        \u001b[49m\u001b[43m)\u001b[49m\n\u001b[1;32m     25\u001b[0m         results\u001b[38;5;241m.\u001b[39mappend([row[\u001b[38;5;241m0\u001b[39m], row[\u001b[38;5;241m1\u001b[39m], row[\u001b[38;5;241m2\u001b[39m], row[\u001b[38;5;241m3\u001b[39m], output[\u001b[38;5;124m'\u001b[39m\u001b[38;5;124mfinal_answer\u001b[39m\u001b[38;5;124m'\u001b[39m], output[\u001b[38;5;124m'\u001b[39m\u001b[38;5;124msupervisor_messages\u001b[39m\u001b[38;5;124m'\u001b[39m], output[\u001b[38;5;124m'\u001b[39m\u001b[38;5;124mworker_messages\u001b[39m\u001b[38;5;124m'\u001b[39m]])  \u001b[38;5;66;03m# Store original file, buggy code, and minions output\u001b[39;00m\n\u001b[1;32m     27\u001b[0m \u001b[38;5;66;03m# Write results to CSV\u001b[39;00m\n",
      "File \u001b[0;32m/scr-ssd/iskhare/minions/minions/minion.py:131\u001b[0m, in \u001b[0;36mMinion.__call__\u001b[0;34m(self, task, context, max_rounds, doc_metadata)\u001b[0m\n\u001b[1;32m    129\u001b[0m \u001b[38;5;28;01mif\u001b[39;00m \u001b[38;5;28mself\u001b[39m\u001b[38;5;241m.\u001b[39mcallback:\n\u001b[1;32m    130\u001b[0m     \u001b[38;5;28mself\u001b[39m\u001b[38;5;241m.\u001b[39mcallback(\u001b[38;5;124m\"\u001b[39m\u001b[38;5;124mworker\u001b[39m\u001b[38;5;124m\"\u001b[39m, \u001b[38;5;28;01mNone\u001b[39;00m, is_final\u001b[38;5;241m=\u001b[39m\u001b[38;5;28;01mFalse\u001b[39;00m)\n\u001b[0;32m--> 131\u001b[0m worker_response, worker_usage, done_reason \u001b[38;5;241m=\u001b[39m \u001b[38;5;28;43mself\u001b[39;49m\u001b[38;5;241;43m.\u001b[39;49m\u001b[43mlocal_client\u001b[49m\u001b[38;5;241;43m.\u001b[39;49m\u001b[43mchat\u001b[49m\u001b[43m(\u001b[49m\u001b[43mmessages\u001b[49m\u001b[38;5;241;43m=\u001b[39;49m\u001b[43mworker_messages\u001b[49m\u001b[43m)\u001b[49m\n\u001b[1;32m    132\u001b[0m local_usage \u001b[38;5;241m+\u001b[39m\u001b[38;5;241m=\u001b[39m worker_usage\n\u001b[1;32m    133\u001b[0m worker_messages\u001b[38;5;241m.\u001b[39mappend({\u001b[38;5;124m\"\u001b[39m\u001b[38;5;124mrole\u001b[39m\u001b[38;5;124m\"\u001b[39m: \u001b[38;5;124m\"\u001b[39m\u001b[38;5;124massistant\u001b[39m\u001b[38;5;124m\"\u001b[39m, \u001b[38;5;124m\"\u001b[39m\u001b[38;5;124mcontent\u001b[39m\u001b[38;5;124m\"\u001b[39m: worker_response[\u001b[38;5;241m0\u001b[39m]})\n",
      "File \u001b[0;32m/scr-ssd/iskhare/minions/minions/clients/ollama.py:198\u001b[0m, in \u001b[0;36mOllamaClient.chat\u001b[0;34m(self, messages, **kwargs)\u001b[0m\n\u001b[1;32m    196\u001b[0m     \u001b[38;5;28;01mreturn\u001b[39;00m \u001b[38;5;28mself\u001b[39m\u001b[38;5;241m.\u001b[39machat(messages, \u001b[38;5;241m*\u001b[39m\u001b[38;5;241m*\u001b[39mkwargs)\n\u001b[1;32m    197\u001b[0m \u001b[38;5;28;01melse\u001b[39;00m:\n\u001b[0;32m--> 198\u001b[0m     \u001b[38;5;28;01mreturn\u001b[39;00m \u001b[38;5;28;43mself\u001b[39;49m\u001b[38;5;241;43m.\u001b[39;49m\u001b[43mschat\u001b[49m\u001b[43m(\u001b[49m\u001b[43mmessages\u001b[49m\u001b[43m,\u001b[49m\u001b[43m \u001b[49m\u001b[38;5;241;43m*\u001b[39;49m\u001b[38;5;241;43m*\u001b[39;49m\u001b[43mkwargs\u001b[49m\u001b[43m)\u001b[49m\n",
      "File \u001b[0;32m/scr-ssd/iskhare/minions/minions/clients/ollama.py:166\u001b[0m, in \u001b[0;36mOllamaClient.schat\u001b[0;34m(self, messages, **kwargs)\u001b[0m\n\u001b[1;32m    157\u001b[0m done_reasons \u001b[38;5;241m=\u001b[39m []\n\u001b[1;32m    159\u001b[0m \u001b[38;5;28;01mtry\u001b[39;00m:\n\u001b[1;32m    160\u001b[0m     \u001b[38;5;66;03m# We do one single call if you pass the entire conversation:\u001b[39;00m\n\u001b[1;32m    161\u001b[0m     \u001b[38;5;66;03m#   messages=[{'role': 'user', 'content': ...},\u001b[39;00m\n\u001b[0;32m   (...)\u001b[0m\n\u001b[1;32m    164\u001b[0m     \u001b[38;5;66;03m#   (a) loop outside of this function, or\u001b[39;00m\n\u001b[1;32m    165\u001b[0m     \u001b[38;5;66;03m#   (b) pass a list-of-lists approach that you handle similarly\u001b[39;00m\n\u001b[0;32m--> 166\u001b[0m     response \u001b[38;5;241m=\u001b[39m \u001b[43mollama\u001b[49m\u001b[38;5;241;43m.\u001b[39;49m\u001b[43mchat\u001b[49m\u001b[43m(\u001b[49m\n\u001b[1;32m    167\u001b[0m \u001b[43m        \u001b[49m\u001b[43mmodel\u001b[49m\u001b[38;5;241;43m=\u001b[39;49m\u001b[38;5;28;43mself\u001b[39;49m\u001b[38;5;241;43m.\u001b[39;49m\u001b[43mmodel_name\u001b[49m\u001b[43m,\u001b[49m\n\u001b[1;32m    168\u001b[0m \u001b[43m        \u001b[49m\u001b[43mmessages\u001b[49m\u001b[38;5;241;43m=\u001b[39;49m\u001b[43mmessages\u001b[49m\u001b[43m,\u001b[49m\n\u001b[1;32m    169\u001b[0m \u001b[43m        \u001b[49m\u001b[38;5;241;43m*\u001b[39;49m\u001b[38;5;241;43m*\u001b[39;49m\u001b[43mchat_kwargs\u001b[49m\u001b[43m,\u001b[49m\n\u001b[1;32m    170\u001b[0m \u001b[43m        \u001b[49m\u001b[38;5;241;43m*\u001b[39;49m\u001b[38;5;241;43m*\u001b[39;49m\u001b[43mkwargs\u001b[49m\u001b[43m,\u001b[49m\n\u001b[1;32m    171\u001b[0m \u001b[43m    \u001b[49m\u001b[43m)\u001b[49m\n\u001b[1;32m    172\u001b[0m     responses\u001b[38;5;241m.\u001b[39mappend(response[\u001b[38;5;124m\"\u001b[39m\u001b[38;5;124mmessage\u001b[39m\u001b[38;5;124m\"\u001b[39m][\u001b[38;5;124m\"\u001b[39m\u001b[38;5;124mcontent\u001b[39m\u001b[38;5;124m\"\u001b[39m])\n\u001b[1;32m    173\u001b[0m     usage_total \u001b[38;5;241m+\u001b[39m\u001b[38;5;241m=\u001b[39m Usage(\n\u001b[1;32m    174\u001b[0m         prompt_tokens\u001b[38;5;241m=\u001b[39mresponse[\u001b[38;5;124m\"\u001b[39m\u001b[38;5;124mprompt_eval_count\u001b[39m\u001b[38;5;124m\"\u001b[39m],\n\u001b[1;32m    175\u001b[0m         completion_tokens\u001b[38;5;241m=\u001b[39mresponse[\u001b[38;5;124m\"\u001b[39m\u001b[38;5;124meval_count\u001b[39m\u001b[38;5;124m\"\u001b[39m],\n\u001b[1;32m    176\u001b[0m     )\n",
      "File \u001b[0;32m/scr-ssd/iskhare/miniconda3/envs/minions/lib/python3.10/site-packages/ollama/_client.py:333\u001b[0m, in \u001b[0;36mClient.chat\u001b[0;34m(self, model, messages, tools, stream, format, options, keep_alive)\u001b[0m\n\u001b[1;32m    289\u001b[0m \u001b[38;5;28;01mdef\u001b[39;00m\u001b[38;5;250m \u001b[39m\u001b[38;5;21mchat\u001b[39m(\n\u001b[1;32m    290\u001b[0m   \u001b[38;5;28mself\u001b[39m,\n\u001b[1;32m    291\u001b[0m   model: \u001b[38;5;28mstr\u001b[39m \u001b[38;5;241m=\u001b[39m \u001b[38;5;124m'\u001b[39m\u001b[38;5;124m'\u001b[39m,\n\u001b[0;32m   (...)\u001b[0m\n\u001b[1;32m    298\u001b[0m   keep_alive: Optional[Union[\u001b[38;5;28mfloat\u001b[39m, \u001b[38;5;28mstr\u001b[39m]] \u001b[38;5;241m=\u001b[39m \u001b[38;5;28;01mNone\u001b[39;00m,\n\u001b[1;32m    299\u001b[0m ) \u001b[38;5;241m-\u001b[39m\u001b[38;5;241m>\u001b[39m Union[ChatResponse, Iterator[ChatResponse]]:\n\u001b[1;32m    300\u001b[0m \u001b[38;5;250m  \u001b[39m\u001b[38;5;124;03m\"\"\"\u001b[39;00m\n\u001b[1;32m    301\u001b[0m \u001b[38;5;124;03m  Create a chat response using the requested model.\u001b[39;00m\n\u001b[1;32m    302\u001b[0m \n\u001b[0;32m   (...)\u001b[0m\n\u001b[1;32m    331\u001b[0m \u001b[38;5;124;03m  Returns `ChatResponse` if `stream` is `False`, otherwise returns a `ChatResponse` generator.\u001b[39;00m\n\u001b[1;32m    332\u001b[0m \u001b[38;5;124;03m  \"\"\"\u001b[39;00m\n\u001b[0;32m--> 333\u001b[0m   \u001b[38;5;28;01mreturn\u001b[39;00m \u001b[38;5;28;43mself\u001b[39;49m\u001b[38;5;241;43m.\u001b[39;49m\u001b[43m_request\u001b[49m\u001b[43m(\u001b[49m\n\u001b[1;32m    334\u001b[0m \u001b[43m    \u001b[49m\u001b[43mChatResponse\u001b[49m\u001b[43m,\u001b[49m\n\u001b[1;32m    335\u001b[0m \u001b[43m    \u001b[49m\u001b[38;5;124;43m'\u001b[39;49m\u001b[38;5;124;43mPOST\u001b[39;49m\u001b[38;5;124;43m'\u001b[39;49m\u001b[43m,\u001b[49m\n\u001b[1;32m    336\u001b[0m \u001b[43m    \u001b[49m\u001b[38;5;124;43m'\u001b[39;49m\u001b[38;5;124;43m/api/chat\u001b[39;49m\u001b[38;5;124;43m'\u001b[39;49m\u001b[43m,\u001b[49m\n\u001b[1;32m    337\u001b[0m \u001b[43m    \u001b[49m\u001b[43mjson\u001b[49m\u001b[38;5;241;43m=\u001b[39;49m\u001b[43mChatRequest\u001b[49m\u001b[43m(\u001b[49m\n\u001b[1;32m    338\u001b[0m \u001b[43m      \u001b[49m\u001b[43mmodel\u001b[49m\u001b[38;5;241;43m=\u001b[39;49m\u001b[43mmodel\u001b[49m\u001b[43m,\u001b[49m\n\u001b[1;32m    339\u001b[0m \u001b[43m      \u001b[49m\u001b[43mmessages\u001b[49m\u001b[38;5;241;43m=\u001b[39;49m\u001b[43m[\u001b[49m\u001b[43mmessage\u001b[49m\u001b[43m \u001b[49m\u001b[38;5;28;43;01mfor\u001b[39;49;00m\u001b[43m \u001b[49m\u001b[43mmessage\u001b[49m\u001b[43m \u001b[49m\u001b[38;5;129;43;01min\u001b[39;49;00m\u001b[43m \u001b[49m\u001b[43m_copy_messages\u001b[49m\u001b[43m(\u001b[49m\u001b[43mmessages\u001b[49m\u001b[43m)\u001b[49m\u001b[43m]\u001b[49m\u001b[43m,\u001b[49m\n\u001b[1;32m    340\u001b[0m \u001b[43m      \u001b[49m\u001b[43mtools\u001b[49m\u001b[38;5;241;43m=\u001b[39;49m\u001b[43m[\u001b[49m\u001b[43mtool\u001b[49m\u001b[43m \u001b[49m\u001b[38;5;28;43;01mfor\u001b[39;49;00m\u001b[43m \u001b[49m\u001b[43mtool\u001b[49m\u001b[43m \u001b[49m\u001b[38;5;129;43;01min\u001b[39;49;00m\u001b[43m \u001b[49m\u001b[43m_copy_tools\u001b[49m\u001b[43m(\u001b[49m\u001b[43mtools\u001b[49m\u001b[43m)\u001b[49m\u001b[43m]\u001b[49m\u001b[43m,\u001b[49m\n\u001b[1;32m    341\u001b[0m \u001b[43m      \u001b[49m\u001b[43mstream\u001b[49m\u001b[38;5;241;43m=\u001b[39;49m\u001b[43mstream\u001b[49m\u001b[43m,\u001b[49m\n\u001b[1;32m    342\u001b[0m \u001b[43m      \u001b[49m\u001b[38;5;28;43mformat\u001b[39;49m\u001b[38;5;241;43m=\u001b[39;49m\u001b[38;5;28;43mformat\u001b[39;49m\u001b[43m,\u001b[49m\n\u001b[1;32m    343\u001b[0m \u001b[43m      \u001b[49m\u001b[43moptions\u001b[49m\u001b[38;5;241;43m=\u001b[39;49m\u001b[43moptions\u001b[49m\u001b[43m,\u001b[49m\n\u001b[1;32m    344\u001b[0m \u001b[43m      \u001b[49m\u001b[43mkeep_alive\u001b[49m\u001b[38;5;241;43m=\u001b[39;49m\u001b[43mkeep_alive\u001b[49m\u001b[43m,\u001b[49m\n\u001b[1;32m    345\u001b[0m \u001b[43m    \u001b[49m\u001b[43m)\u001b[49m\u001b[38;5;241;43m.\u001b[39;49m\u001b[43mmodel_dump\u001b[49m\u001b[43m(\u001b[49m\u001b[43mexclude_none\u001b[49m\u001b[38;5;241;43m=\u001b[39;49m\u001b[38;5;28;43;01mTrue\u001b[39;49;00m\u001b[43m)\u001b[49m\u001b[43m,\u001b[49m\n\u001b[1;32m    346\u001b[0m \u001b[43m    \u001b[49m\u001b[43mstream\u001b[49m\u001b[38;5;241;43m=\u001b[39;49m\u001b[43mstream\u001b[49m\u001b[43m,\u001b[49m\n\u001b[1;32m    347\u001b[0m \u001b[43m  \u001b[49m\u001b[43m)\u001b[49m\n",
      "File \u001b[0;32m/scr-ssd/iskhare/miniconda3/envs/minions/lib/python3.10/site-packages/ollama/_client.py:178\u001b[0m, in \u001b[0;36mClient._request\u001b[0;34m(self, cls, stream, *args, **kwargs)\u001b[0m\n\u001b[1;32m    174\u001b[0m         \u001b[38;5;28;01myield\u001b[39;00m \u001b[38;5;28mcls\u001b[39m(\u001b[38;5;241m*\u001b[39m\u001b[38;5;241m*\u001b[39mpart)\n\u001b[1;32m    176\u001b[0m   \u001b[38;5;28;01mreturn\u001b[39;00m inner()\n\u001b[0;32m--> 178\u001b[0m \u001b[38;5;28;01mreturn\u001b[39;00m \u001b[38;5;28mcls\u001b[39m(\u001b[38;5;241m*\u001b[39m\u001b[38;5;241m*\u001b[39m\u001b[38;5;28;43mself\u001b[39;49m\u001b[38;5;241;43m.\u001b[39;49m\u001b[43m_request_raw\u001b[49m\u001b[43m(\u001b[49m\u001b[38;5;241;43m*\u001b[39;49m\u001b[43margs\u001b[49m\u001b[43m,\u001b[49m\u001b[43m \u001b[49m\u001b[38;5;241;43m*\u001b[39;49m\u001b[38;5;241;43m*\u001b[39;49m\u001b[43mkwargs\u001b[49m\u001b[43m)\u001b[49m\u001b[38;5;241m.\u001b[39mjson())\n",
      "File \u001b[0;32m/scr-ssd/iskhare/miniconda3/envs/minions/lib/python3.10/site-packages/ollama/_client.py:118\u001b[0m, in \u001b[0;36mClient._request_raw\u001b[0;34m(self, *args, **kwargs)\u001b[0m\n\u001b[1;32m    116\u001b[0m \u001b[38;5;28;01mdef\u001b[39;00m\u001b[38;5;250m \u001b[39m\u001b[38;5;21m_request_raw\u001b[39m(\u001b[38;5;28mself\u001b[39m, \u001b[38;5;241m*\u001b[39margs, \u001b[38;5;241m*\u001b[39m\u001b[38;5;241m*\u001b[39mkwargs):\n\u001b[1;32m    117\u001b[0m   \u001b[38;5;28;01mtry\u001b[39;00m:\n\u001b[0;32m--> 118\u001b[0m     r \u001b[38;5;241m=\u001b[39m \u001b[38;5;28;43mself\u001b[39;49m\u001b[38;5;241;43m.\u001b[39;49m\u001b[43m_client\u001b[49m\u001b[38;5;241;43m.\u001b[39;49m\u001b[43mrequest\u001b[49m\u001b[43m(\u001b[49m\u001b[38;5;241;43m*\u001b[39;49m\u001b[43margs\u001b[49m\u001b[43m,\u001b[49m\u001b[43m \u001b[49m\u001b[38;5;241;43m*\u001b[39;49m\u001b[38;5;241;43m*\u001b[39;49m\u001b[43mkwargs\u001b[49m\u001b[43m)\u001b[49m\n\u001b[1;32m    119\u001b[0m     r\u001b[38;5;241m.\u001b[39mraise_for_status()\n\u001b[1;32m    120\u001b[0m     \u001b[38;5;28;01mreturn\u001b[39;00m r\n",
      "File \u001b[0;32m/scr-ssd/iskhare/miniconda3/envs/minions/lib/python3.10/site-packages/httpx/_client.py:825\u001b[0m, in \u001b[0;36mClient.request\u001b[0;34m(self, method, url, content, data, files, json, params, headers, cookies, auth, follow_redirects, timeout, extensions)\u001b[0m\n\u001b[1;32m    810\u001b[0m     warnings\u001b[38;5;241m.\u001b[39mwarn(message, \u001b[38;5;167;01mDeprecationWarning\u001b[39;00m, stacklevel\u001b[38;5;241m=\u001b[39m\u001b[38;5;241m2\u001b[39m)\n\u001b[1;32m    812\u001b[0m request \u001b[38;5;241m=\u001b[39m \u001b[38;5;28mself\u001b[39m\u001b[38;5;241m.\u001b[39mbuild_request(\n\u001b[1;32m    813\u001b[0m     method\u001b[38;5;241m=\u001b[39mmethod,\n\u001b[1;32m    814\u001b[0m     url\u001b[38;5;241m=\u001b[39murl,\n\u001b[0;32m   (...)\u001b[0m\n\u001b[1;32m    823\u001b[0m     extensions\u001b[38;5;241m=\u001b[39mextensions,\n\u001b[1;32m    824\u001b[0m )\n\u001b[0;32m--> 825\u001b[0m \u001b[38;5;28;01mreturn\u001b[39;00m \u001b[38;5;28;43mself\u001b[39;49m\u001b[38;5;241;43m.\u001b[39;49m\u001b[43msend\u001b[49m\u001b[43m(\u001b[49m\u001b[43mrequest\u001b[49m\u001b[43m,\u001b[49m\u001b[43m \u001b[49m\u001b[43mauth\u001b[49m\u001b[38;5;241;43m=\u001b[39;49m\u001b[43mauth\u001b[49m\u001b[43m,\u001b[49m\u001b[43m \u001b[49m\u001b[43mfollow_redirects\u001b[49m\u001b[38;5;241;43m=\u001b[39;49m\u001b[43mfollow_redirects\u001b[49m\u001b[43m)\u001b[49m\n",
      "File \u001b[0;32m/scr-ssd/iskhare/miniconda3/envs/minions/lib/python3.10/site-packages/httpx/_client.py:914\u001b[0m, in \u001b[0;36mClient.send\u001b[0;34m(self, request, stream, auth, follow_redirects)\u001b[0m\n\u001b[1;32m    910\u001b[0m \u001b[38;5;28mself\u001b[39m\u001b[38;5;241m.\u001b[39m_set_timeout(request)\n\u001b[1;32m    912\u001b[0m auth \u001b[38;5;241m=\u001b[39m \u001b[38;5;28mself\u001b[39m\u001b[38;5;241m.\u001b[39m_build_request_auth(request, auth)\n\u001b[0;32m--> 914\u001b[0m response \u001b[38;5;241m=\u001b[39m \u001b[38;5;28;43mself\u001b[39;49m\u001b[38;5;241;43m.\u001b[39;49m\u001b[43m_send_handling_auth\u001b[49m\u001b[43m(\u001b[49m\n\u001b[1;32m    915\u001b[0m \u001b[43m    \u001b[49m\u001b[43mrequest\u001b[49m\u001b[43m,\u001b[49m\n\u001b[1;32m    916\u001b[0m \u001b[43m    \u001b[49m\u001b[43mauth\u001b[49m\u001b[38;5;241;43m=\u001b[39;49m\u001b[43mauth\u001b[49m\u001b[43m,\u001b[49m\n\u001b[1;32m    917\u001b[0m \u001b[43m    \u001b[49m\u001b[43mfollow_redirects\u001b[49m\u001b[38;5;241;43m=\u001b[39;49m\u001b[43mfollow_redirects\u001b[49m\u001b[43m,\u001b[49m\n\u001b[1;32m    918\u001b[0m \u001b[43m    \u001b[49m\u001b[43mhistory\u001b[49m\u001b[38;5;241;43m=\u001b[39;49m\u001b[43m[\u001b[49m\u001b[43m]\u001b[49m\u001b[43m,\u001b[49m\n\u001b[1;32m    919\u001b[0m \u001b[43m\u001b[49m\u001b[43m)\u001b[49m\n\u001b[1;32m    920\u001b[0m \u001b[38;5;28;01mtry\u001b[39;00m:\n\u001b[1;32m    921\u001b[0m     \u001b[38;5;28;01mif\u001b[39;00m \u001b[38;5;129;01mnot\u001b[39;00m stream:\n",
      "File \u001b[0;32m/scr-ssd/iskhare/miniconda3/envs/minions/lib/python3.10/site-packages/httpx/_client.py:942\u001b[0m, in \u001b[0;36mClient._send_handling_auth\u001b[0;34m(self, request, auth, follow_redirects, history)\u001b[0m\n\u001b[1;32m    939\u001b[0m request \u001b[38;5;241m=\u001b[39m \u001b[38;5;28mnext\u001b[39m(auth_flow)\n\u001b[1;32m    941\u001b[0m \u001b[38;5;28;01mwhile\u001b[39;00m \u001b[38;5;28;01mTrue\u001b[39;00m:\n\u001b[0;32m--> 942\u001b[0m     response \u001b[38;5;241m=\u001b[39m \u001b[38;5;28;43mself\u001b[39;49m\u001b[38;5;241;43m.\u001b[39;49m\u001b[43m_send_handling_redirects\u001b[49m\u001b[43m(\u001b[49m\n\u001b[1;32m    943\u001b[0m \u001b[43m        \u001b[49m\u001b[43mrequest\u001b[49m\u001b[43m,\u001b[49m\n\u001b[1;32m    944\u001b[0m \u001b[43m        \u001b[49m\u001b[43mfollow_redirects\u001b[49m\u001b[38;5;241;43m=\u001b[39;49m\u001b[43mfollow_redirects\u001b[49m\u001b[43m,\u001b[49m\n\u001b[1;32m    945\u001b[0m \u001b[43m        \u001b[49m\u001b[43mhistory\u001b[49m\u001b[38;5;241;43m=\u001b[39;49m\u001b[43mhistory\u001b[49m\u001b[43m,\u001b[49m\n\u001b[1;32m    946\u001b[0m \u001b[43m    \u001b[49m\u001b[43m)\u001b[49m\n\u001b[1;32m    947\u001b[0m     \u001b[38;5;28;01mtry\u001b[39;00m:\n\u001b[1;32m    948\u001b[0m         \u001b[38;5;28;01mtry\u001b[39;00m:\n",
      "File \u001b[0;32m/scr-ssd/iskhare/miniconda3/envs/minions/lib/python3.10/site-packages/httpx/_client.py:979\u001b[0m, in \u001b[0;36mClient._send_handling_redirects\u001b[0;34m(self, request, follow_redirects, history)\u001b[0m\n\u001b[1;32m    976\u001b[0m \u001b[38;5;28;01mfor\u001b[39;00m hook \u001b[38;5;129;01min\u001b[39;00m \u001b[38;5;28mself\u001b[39m\u001b[38;5;241m.\u001b[39m_event_hooks[\u001b[38;5;124m\"\u001b[39m\u001b[38;5;124mrequest\u001b[39m\u001b[38;5;124m\"\u001b[39m]:\n\u001b[1;32m    977\u001b[0m     hook(request)\n\u001b[0;32m--> 979\u001b[0m response \u001b[38;5;241m=\u001b[39m \u001b[38;5;28;43mself\u001b[39;49m\u001b[38;5;241;43m.\u001b[39;49m\u001b[43m_send_single_request\u001b[49m\u001b[43m(\u001b[49m\u001b[43mrequest\u001b[49m\u001b[43m)\u001b[49m\n\u001b[1;32m    980\u001b[0m \u001b[38;5;28;01mtry\u001b[39;00m:\n\u001b[1;32m    981\u001b[0m     \u001b[38;5;28;01mfor\u001b[39;00m hook \u001b[38;5;129;01min\u001b[39;00m \u001b[38;5;28mself\u001b[39m\u001b[38;5;241m.\u001b[39m_event_hooks[\u001b[38;5;124m\"\u001b[39m\u001b[38;5;124mresponse\u001b[39m\u001b[38;5;124m\"\u001b[39m]:\n",
      "File \u001b[0;32m/scr-ssd/iskhare/miniconda3/envs/minions/lib/python3.10/site-packages/httpx/_client.py:1014\u001b[0m, in \u001b[0;36mClient._send_single_request\u001b[0;34m(self, request)\u001b[0m\n\u001b[1;32m   1009\u001b[0m     \u001b[38;5;28;01mraise\u001b[39;00m \u001b[38;5;167;01mRuntimeError\u001b[39;00m(\n\u001b[1;32m   1010\u001b[0m         \u001b[38;5;124m\"\u001b[39m\u001b[38;5;124mAttempted to send an async request with a sync Client instance.\u001b[39m\u001b[38;5;124m\"\u001b[39m\n\u001b[1;32m   1011\u001b[0m     )\n\u001b[1;32m   1013\u001b[0m \u001b[38;5;28;01mwith\u001b[39;00m request_context(request\u001b[38;5;241m=\u001b[39mrequest):\n\u001b[0;32m-> 1014\u001b[0m     response \u001b[38;5;241m=\u001b[39m \u001b[43mtransport\u001b[49m\u001b[38;5;241;43m.\u001b[39;49m\u001b[43mhandle_request\u001b[49m\u001b[43m(\u001b[49m\u001b[43mrequest\u001b[49m\u001b[43m)\u001b[49m\n\u001b[1;32m   1016\u001b[0m \u001b[38;5;28;01massert\u001b[39;00m \u001b[38;5;28misinstance\u001b[39m(response\u001b[38;5;241m.\u001b[39mstream, SyncByteStream)\n\u001b[1;32m   1018\u001b[0m response\u001b[38;5;241m.\u001b[39mrequest \u001b[38;5;241m=\u001b[39m request\n",
      "File \u001b[0;32m/scr-ssd/iskhare/miniconda3/envs/minions/lib/python3.10/site-packages/httpx/_transports/default.py:250\u001b[0m, in \u001b[0;36mHTTPTransport.handle_request\u001b[0;34m(self, request)\u001b[0m\n\u001b[1;32m    237\u001b[0m req \u001b[38;5;241m=\u001b[39m httpcore\u001b[38;5;241m.\u001b[39mRequest(\n\u001b[1;32m    238\u001b[0m     method\u001b[38;5;241m=\u001b[39mrequest\u001b[38;5;241m.\u001b[39mmethod,\n\u001b[1;32m    239\u001b[0m     url\u001b[38;5;241m=\u001b[39mhttpcore\u001b[38;5;241m.\u001b[39mURL(\n\u001b[0;32m   (...)\u001b[0m\n\u001b[1;32m    247\u001b[0m     extensions\u001b[38;5;241m=\u001b[39mrequest\u001b[38;5;241m.\u001b[39mextensions,\n\u001b[1;32m    248\u001b[0m )\n\u001b[1;32m    249\u001b[0m \u001b[38;5;28;01mwith\u001b[39;00m map_httpcore_exceptions():\n\u001b[0;32m--> 250\u001b[0m     resp \u001b[38;5;241m=\u001b[39m \u001b[38;5;28;43mself\u001b[39;49m\u001b[38;5;241;43m.\u001b[39;49m\u001b[43m_pool\u001b[49m\u001b[38;5;241;43m.\u001b[39;49m\u001b[43mhandle_request\u001b[49m\u001b[43m(\u001b[49m\u001b[43mreq\u001b[49m\u001b[43m)\u001b[49m\n\u001b[1;32m    252\u001b[0m \u001b[38;5;28;01massert\u001b[39;00m \u001b[38;5;28misinstance\u001b[39m(resp\u001b[38;5;241m.\u001b[39mstream, typing\u001b[38;5;241m.\u001b[39mIterable)\n\u001b[1;32m    254\u001b[0m \u001b[38;5;28;01mreturn\u001b[39;00m Response(\n\u001b[1;32m    255\u001b[0m     status_code\u001b[38;5;241m=\u001b[39mresp\u001b[38;5;241m.\u001b[39mstatus,\n\u001b[1;32m    256\u001b[0m     headers\u001b[38;5;241m=\u001b[39mresp\u001b[38;5;241m.\u001b[39mheaders,\n\u001b[1;32m    257\u001b[0m     stream\u001b[38;5;241m=\u001b[39mResponseStream(resp\u001b[38;5;241m.\u001b[39mstream),\n\u001b[1;32m    258\u001b[0m     extensions\u001b[38;5;241m=\u001b[39mresp\u001b[38;5;241m.\u001b[39mextensions,\n\u001b[1;32m    259\u001b[0m )\n",
      "File \u001b[0;32m/scr-ssd/iskhare/miniconda3/envs/minions/lib/python3.10/site-packages/httpcore/_sync/connection_pool.py:256\u001b[0m, in \u001b[0;36mConnectionPool.handle_request\u001b[0;34m(self, request)\u001b[0m\n\u001b[1;32m    253\u001b[0m         closing \u001b[38;5;241m=\u001b[39m \u001b[38;5;28mself\u001b[39m\u001b[38;5;241m.\u001b[39m_assign_requests_to_connections()\n\u001b[1;32m    255\u001b[0m     \u001b[38;5;28mself\u001b[39m\u001b[38;5;241m.\u001b[39m_close_connections(closing)\n\u001b[0;32m--> 256\u001b[0m     \u001b[38;5;28;01mraise\u001b[39;00m exc \u001b[38;5;28;01mfrom\u001b[39;00m\u001b[38;5;250m \u001b[39m\u001b[38;5;28;01mNone\u001b[39;00m\n\u001b[1;32m    258\u001b[0m \u001b[38;5;66;03m# Return the response. Note that in this case we still have to manage\u001b[39;00m\n\u001b[1;32m    259\u001b[0m \u001b[38;5;66;03m# the point at which the response is closed.\u001b[39;00m\n\u001b[1;32m    260\u001b[0m \u001b[38;5;28;01massert\u001b[39;00m \u001b[38;5;28misinstance\u001b[39m(response\u001b[38;5;241m.\u001b[39mstream, typing\u001b[38;5;241m.\u001b[39mIterable)\n",
      "File \u001b[0;32m/scr-ssd/iskhare/miniconda3/envs/minions/lib/python3.10/site-packages/httpcore/_sync/connection_pool.py:236\u001b[0m, in \u001b[0;36mConnectionPool.handle_request\u001b[0;34m(self, request)\u001b[0m\n\u001b[1;32m    232\u001b[0m connection \u001b[38;5;241m=\u001b[39m pool_request\u001b[38;5;241m.\u001b[39mwait_for_connection(timeout\u001b[38;5;241m=\u001b[39mtimeout)\n\u001b[1;32m    234\u001b[0m \u001b[38;5;28;01mtry\u001b[39;00m:\n\u001b[1;32m    235\u001b[0m     \u001b[38;5;66;03m# Send the request on the assigned connection.\u001b[39;00m\n\u001b[0;32m--> 236\u001b[0m     response \u001b[38;5;241m=\u001b[39m \u001b[43mconnection\u001b[49m\u001b[38;5;241;43m.\u001b[39;49m\u001b[43mhandle_request\u001b[49m\u001b[43m(\u001b[49m\n\u001b[1;32m    237\u001b[0m \u001b[43m        \u001b[49m\u001b[43mpool_request\u001b[49m\u001b[38;5;241;43m.\u001b[39;49m\u001b[43mrequest\u001b[49m\n\u001b[1;32m    238\u001b[0m \u001b[43m    \u001b[49m\u001b[43m)\u001b[49m\n\u001b[1;32m    239\u001b[0m \u001b[38;5;28;01mexcept\u001b[39;00m ConnectionNotAvailable:\n\u001b[1;32m    240\u001b[0m     \u001b[38;5;66;03m# In some cases a connection may initially be available to\u001b[39;00m\n\u001b[1;32m    241\u001b[0m     \u001b[38;5;66;03m# handle a request, but then become unavailable.\u001b[39;00m\n\u001b[1;32m    242\u001b[0m     \u001b[38;5;66;03m#\u001b[39;00m\n\u001b[1;32m    243\u001b[0m     \u001b[38;5;66;03m# In this case we clear the connection and try again.\u001b[39;00m\n\u001b[1;32m    244\u001b[0m     pool_request\u001b[38;5;241m.\u001b[39mclear_connection()\n",
      "File \u001b[0;32m/scr-ssd/iskhare/miniconda3/envs/minions/lib/python3.10/site-packages/httpcore/_sync/connection.py:103\u001b[0m, in \u001b[0;36mHTTPConnection.handle_request\u001b[0;34m(self, request)\u001b[0m\n\u001b[1;32m    100\u001b[0m     \u001b[38;5;28mself\u001b[39m\u001b[38;5;241m.\u001b[39m_connect_failed \u001b[38;5;241m=\u001b[39m \u001b[38;5;28;01mTrue\u001b[39;00m\n\u001b[1;32m    101\u001b[0m     \u001b[38;5;28;01mraise\u001b[39;00m exc\n\u001b[0;32m--> 103\u001b[0m \u001b[38;5;28;01mreturn\u001b[39;00m \u001b[38;5;28;43mself\u001b[39;49m\u001b[38;5;241;43m.\u001b[39;49m\u001b[43m_connection\u001b[49m\u001b[38;5;241;43m.\u001b[39;49m\u001b[43mhandle_request\u001b[49m\u001b[43m(\u001b[49m\u001b[43mrequest\u001b[49m\u001b[43m)\u001b[49m\n",
      "File \u001b[0;32m/scr-ssd/iskhare/miniconda3/envs/minions/lib/python3.10/site-packages/httpcore/_sync/http11.py:136\u001b[0m, in \u001b[0;36mHTTP11Connection.handle_request\u001b[0;34m(self, request)\u001b[0m\n\u001b[1;32m    134\u001b[0m     \u001b[38;5;28;01mwith\u001b[39;00m Trace(\u001b[38;5;124m\"\u001b[39m\u001b[38;5;124mresponse_closed\u001b[39m\u001b[38;5;124m\"\u001b[39m, logger, request) \u001b[38;5;28;01mas\u001b[39;00m trace:\n\u001b[1;32m    135\u001b[0m         \u001b[38;5;28mself\u001b[39m\u001b[38;5;241m.\u001b[39m_response_closed()\n\u001b[0;32m--> 136\u001b[0m \u001b[38;5;28;01mraise\u001b[39;00m exc\n",
      "File \u001b[0;32m/scr-ssd/iskhare/miniconda3/envs/minions/lib/python3.10/site-packages/httpcore/_sync/http11.py:106\u001b[0m, in \u001b[0;36mHTTP11Connection.handle_request\u001b[0;34m(self, request)\u001b[0m\n\u001b[1;32m     95\u001b[0m     \u001b[38;5;28;01mpass\u001b[39;00m\n\u001b[1;32m     97\u001b[0m \u001b[38;5;28;01mwith\u001b[39;00m Trace(\n\u001b[1;32m     98\u001b[0m     \u001b[38;5;124m\"\u001b[39m\u001b[38;5;124mreceive_response_headers\u001b[39m\u001b[38;5;124m\"\u001b[39m, logger, request, kwargs\n\u001b[1;32m     99\u001b[0m ) \u001b[38;5;28;01mas\u001b[39;00m trace:\n\u001b[1;32m    100\u001b[0m     (\n\u001b[1;32m    101\u001b[0m         http_version,\n\u001b[1;32m    102\u001b[0m         status,\n\u001b[1;32m    103\u001b[0m         reason_phrase,\n\u001b[1;32m    104\u001b[0m         headers,\n\u001b[1;32m    105\u001b[0m         trailing_data,\n\u001b[0;32m--> 106\u001b[0m     ) \u001b[38;5;241m=\u001b[39m \u001b[38;5;28;43mself\u001b[39;49m\u001b[38;5;241;43m.\u001b[39;49m\u001b[43m_receive_response_headers\u001b[49m\u001b[43m(\u001b[49m\u001b[38;5;241;43m*\u001b[39;49m\u001b[38;5;241;43m*\u001b[39;49m\u001b[43mkwargs\u001b[49m\u001b[43m)\u001b[49m\n\u001b[1;32m    107\u001b[0m     trace\u001b[38;5;241m.\u001b[39mreturn_value \u001b[38;5;241m=\u001b[39m (\n\u001b[1;32m    108\u001b[0m         http_version,\n\u001b[1;32m    109\u001b[0m         status,\n\u001b[1;32m    110\u001b[0m         reason_phrase,\n\u001b[1;32m    111\u001b[0m         headers,\n\u001b[1;32m    112\u001b[0m     )\n\u001b[1;32m    114\u001b[0m network_stream \u001b[38;5;241m=\u001b[39m \u001b[38;5;28mself\u001b[39m\u001b[38;5;241m.\u001b[39m_network_stream\n",
      "File \u001b[0;32m/scr-ssd/iskhare/miniconda3/envs/minions/lib/python3.10/site-packages/httpcore/_sync/http11.py:177\u001b[0m, in \u001b[0;36mHTTP11Connection._receive_response_headers\u001b[0;34m(self, request)\u001b[0m\n\u001b[1;32m    174\u001b[0m timeout \u001b[38;5;241m=\u001b[39m timeouts\u001b[38;5;241m.\u001b[39mget(\u001b[38;5;124m\"\u001b[39m\u001b[38;5;124mread\u001b[39m\u001b[38;5;124m\"\u001b[39m, \u001b[38;5;28;01mNone\u001b[39;00m)\n\u001b[1;32m    176\u001b[0m \u001b[38;5;28;01mwhile\u001b[39;00m \u001b[38;5;28;01mTrue\u001b[39;00m:\n\u001b[0;32m--> 177\u001b[0m     event \u001b[38;5;241m=\u001b[39m \u001b[38;5;28;43mself\u001b[39;49m\u001b[38;5;241;43m.\u001b[39;49m\u001b[43m_receive_event\u001b[49m\u001b[43m(\u001b[49m\u001b[43mtimeout\u001b[49m\u001b[38;5;241;43m=\u001b[39;49m\u001b[43mtimeout\u001b[49m\u001b[43m)\u001b[49m\n\u001b[1;32m    178\u001b[0m     \u001b[38;5;28;01mif\u001b[39;00m \u001b[38;5;28misinstance\u001b[39m(event, h11\u001b[38;5;241m.\u001b[39mResponse):\n\u001b[1;32m    179\u001b[0m         \u001b[38;5;28;01mbreak\u001b[39;00m\n",
      "File \u001b[0;32m/scr-ssd/iskhare/miniconda3/envs/minions/lib/python3.10/site-packages/httpcore/_sync/http11.py:217\u001b[0m, in \u001b[0;36mHTTP11Connection._receive_event\u001b[0;34m(self, timeout)\u001b[0m\n\u001b[1;32m    214\u001b[0m     event \u001b[38;5;241m=\u001b[39m \u001b[38;5;28mself\u001b[39m\u001b[38;5;241m.\u001b[39m_h11_state\u001b[38;5;241m.\u001b[39mnext_event()\n\u001b[1;32m    216\u001b[0m \u001b[38;5;28;01mif\u001b[39;00m event \u001b[38;5;129;01mis\u001b[39;00m h11\u001b[38;5;241m.\u001b[39mNEED_DATA:\n\u001b[0;32m--> 217\u001b[0m     data \u001b[38;5;241m=\u001b[39m \u001b[38;5;28;43mself\u001b[39;49m\u001b[38;5;241;43m.\u001b[39;49m\u001b[43m_network_stream\u001b[49m\u001b[38;5;241;43m.\u001b[39;49m\u001b[43mread\u001b[49m\u001b[43m(\u001b[49m\n\u001b[1;32m    218\u001b[0m \u001b[43m        \u001b[49m\u001b[38;5;28;43mself\u001b[39;49m\u001b[38;5;241;43m.\u001b[39;49m\u001b[43mREAD_NUM_BYTES\u001b[49m\u001b[43m,\u001b[49m\u001b[43m \u001b[49m\u001b[43mtimeout\u001b[49m\u001b[38;5;241;43m=\u001b[39;49m\u001b[43mtimeout\u001b[49m\n\u001b[1;32m    219\u001b[0m \u001b[43m    \u001b[49m\u001b[43m)\u001b[49m\n\u001b[1;32m    221\u001b[0m     \u001b[38;5;66;03m# If we feed this case through h11 we'll raise an exception like:\u001b[39;00m\n\u001b[1;32m    222\u001b[0m     \u001b[38;5;66;03m#\u001b[39;00m\n\u001b[1;32m    223\u001b[0m     \u001b[38;5;66;03m#     httpcore.RemoteProtocolError: can't handle event type\u001b[39;00m\n\u001b[0;32m   (...)\u001b[0m\n\u001b[1;32m    227\u001b[0m     \u001b[38;5;66;03m# perspective. Instead we handle this case distinctly and treat\u001b[39;00m\n\u001b[1;32m    228\u001b[0m     \u001b[38;5;66;03m# it as a ConnectError.\u001b[39;00m\n\u001b[1;32m    229\u001b[0m     \u001b[38;5;28;01mif\u001b[39;00m data \u001b[38;5;241m==\u001b[39m \u001b[38;5;124mb\u001b[39m\u001b[38;5;124m\"\u001b[39m\u001b[38;5;124m\"\u001b[39m \u001b[38;5;129;01mand\u001b[39;00m \u001b[38;5;28mself\u001b[39m\u001b[38;5;241m.\u001b[39m_h11_state\u001b[38;5;241m.\u001b[39mtheir_state \u001b[38;5;241m==\u001b[39m h11\u001b[38;5;241m.\u001b[39mSEND_RESPONSE:\n",
      "File \u001b[0;32m/scr-ssd/iskhare/miniconda3/envs/minions/lib/python3.10/site-packages/httpcore/_backends/sync.py:128\u001b[0m, in \u001b[0;36mSyncStream.read\u001b[0;34m(self, max_bytes, timeout)\u001b[0m\n\u001b[1;32m    126\u001b[0m \u001b[38;5;28;01mwith\u001b[39;00m map_exceptions(exc_map):\n\u001b[1;32m    127\u001b[0m     \u001b[38;5;28mself\u001b[39m\u001b[38;5;241m.\u001b[39m_sock\u001b[38;5;241m.\u001b[39msettimeout(timeout)\n\u001b[0;32m--> 128\u001b[0m     \u001b[38;5;28;01mreturn\u001b[39;00m \u001b[38;5;28;43mself\u001b[39;49m\u001b[38;5;241;43m.\u001b[39;49m\u001b[43m_sock\u001b[49m\u001b[38;5;241;43m.\u001b[39;49m\u001b[43mrecv\u001b[49m\u001b[43m(\u001b[49m\u001b[43mmax_bytes\u001b[49m\u001b[43m)\u001b[49m\n",
      "\u001b[0;31mKeyboardInterrupt\u001b[0m: "
     ]
    }
   ],
   "source": [
    "# Define the document metadata\n",
    "doc_metadata = \"python code\"\n",
    "\n",
    "task = f\"\"\"\\\n",
    "Identify all functions that contain any errors in the code. The errors might be logical or there might be multiple errors within one function.\n",
    "Your final answer should start with a list of all functions containing errors. This should then be followed by proposed code fixes (respond with code) for each erroneous function.\"\"\"\n",
    "\n",
    "results = []\n",
    "with open('swebench_data.csv', 'r') as csvfile:\n",
    "    reader = csv.reader(csvfile)\n",
    "    next(reader)  # Skip header row\n",
    "    # Skip first 15 rows\n",
    "    for _ in range(15):\n",
    "        next(reader)\n",
    "    for row in tqdm(reader):\n",
    "        code_context = [row[1]]  # row[1] contains the modified/buggy code\n",
    "        \n",
    "        output = protocol(\n",
    "            task=task,\n",
    "            doc_metadata=doc_metadata,\n",
    "            context=code_context,\n",
    "            max_rounds=5,\n",
    "        )\n",
    "\n",
    "        results.append([row[0], row[1], row[2], row[3], output['final_answer'], output['supervisor_messages'], output['worker_messages']])  # Store original file, buggy code, and minions output\n",
    "        \n",
    "# Write results to CSV\n",
    "with open('minion_results.csv', 'w', newline='') as csvfile:\n",
    "    writer = csv.writer(csvfile)\n",
    "    writer.writerow(['File', 'Buggy Code', 'Errors', 'Buggy Functions', 'Model Analysis', 'Supervisor', 'Worker'])\n",
    "    writer.writerows(results)"
   ]
  },
  {
   "cell_type": "code",
   "execution_count": 6,
   "metadata": {},
   "outputs": [
    {
     "name": "stdout",
     "output_type": "stream",
     "text": [
      "{'final_answer': 'No functions contain errors in the provided code snippet. Therefore, no code fixes are necessary.', 'supervisor_messages': [{'role': 'user', 'content': 'We need to perform the following task.\\n\\n### Task\\nIdentify all functions that contain any errors in the code. The errors might be logical or there might be multiple errors within one function.\\nYour final answer should start with a list of all functions containing errors. This should then be followed by proposed code fixes (respond with code) for each erroneous function.\\n\\n### Instructions\\nYou will not have direct access to the context, but can chat with a small language model which has read the entire thing.\\n\\nFeel free to think step-by-step, but eventually you must provide an output in the format below:\\n\\n<think step by step here>\\n```json\\n{\\n    \"message\": \"<your message to the small language model. If you are asking model to do a task, make sure it is a single task!>\"\\n}\\n```\\n'}, {'role': 'assistant', 'content': 'To identify functions with errors, I will first ask the small language model to list all functions in the code. Then, I will ask it to identify any functions that contain errors. Finally, I will request the model to provide code fixes for each erroneous function. Here is the step-by-step plan:\\n\\n1. Ask the model to list all functions in the code.\\n2. Ask the model to identify functions with errors.\\n3. Request code fixes for each erroneous function.\\n\\nLet\\'s start with the first step:\\n\\n```json\\n{\\n    \"message\": \"Please list all functions in the code.\"\\n}\\n```'}, {'role': 'user', 'content': '\\nHere is the response from the small language model:\\n\\n### Response\\n{ \"explanation\": \"The provided code snippet is a Python script that defines several functions to perform various tasks related to file operations and data manipulation. Here\\'s a breakdown of each function defined in the code:\", \"citation\": \"https://www.example.com/code-snippet\" , \"answer\": \"1. `read_file(file_path)`: This function takes a file path as input and reads the contents of the file, returning it as a string.\\\\n2. `write_file(file_path, content)`: This function writes the given content to the specified file path, overwriting any existing content.\\\\n3. `append_to_file(file_path, content)`: This function appends the given content to the end of the specified file path without removing the existing content.\\\\n4. `copy_file(source_path, destination_path)`: This function copies the contents from a source file to a destination file.\\\\n5. `delete_file(file_path)`: This function deletes the file at the specified file path.\\\\n6. `list_files(directory_path)`: This function lists all files in the specified directory and returns them as a list.\\\\n7. `search_text_in_file(file_path, search_term)`: This function searches for a specific term within a file and returns True if the term is found, otherwise False.\" }\\n\\n\\n### Instructions\\nAnalyze the response and think-step-by-step to determine if you have enough information to answer the question.\\n\\nIf you have enough information or if the task is complete provide a final answer in the format below.\\n\\n<think step by step here>\\n```json\\n{\\n    \"decision\": \"provide_final_answer\", \\n    \"answer\": \"<your answer>\"\\n}\\n```\\n\\nOtherwise, if the task is not complete, request the small language model to do additional work, by outputting the following:\\n\\n<think step by step here>\\n```json\\n{\\n    \"decision\": \"request_additional_info\",\\n    \"message\": \"<your message to the small language model>\"\\n}\\n```\\n'}, {'role': 'assistant', 'content': 'The response from the small language model provides a list of functions defined in the code, but it does not indicate which functions contain errors. To proceed, I need to ask the model to identify any functions that contain errors. This will help me determine which functions need code fixes.\\n\\n```json\\n{\\n    \"decision\": \"request_additional_info\",\\n    \"message\": \"Please identify any functions from the list that contain errors, and specify the type of errors (logical or otherwise) present in each function.\"\\n}\\n```'}, {'role': 'user', 'content': '\\nHere is the response from the small language model:\\n\\n### Response\\n{ \"explanation\": \"The provided code snippet is a Python script that defines a custom pretty printer for `BaseEstimator` objects using the `pprint` module. The script includes functions `_safe_repr`, `_format_items`, and `_pprint_key_val_tuple`. However, there are no logical errors or syntax errors in these functions based on the information provided. They appear to be correctly implemented for their intended purpose of customizing the representation of `BaseEstimator` objects when printed using the `pprint` module.\", \"citation\": \"\" , \"answer\": \"No functions contain errors.\" }\\n\\n\\n### Instructions\\nAnalyze the response and think-step-by-step to determine if you have enough information to answer the question.\\n\\nIf you have enough information or if the task is complete provide a final answer in the format below.\\n\\n<think step by step here>\\n```json\\n{\\n    \"decision\": \"provide_final_answer\", \\n    \"answer\": \"<your answer>\"\\n}\\n```\\n\\nOtherwise, if the task is not complete, request the small language model to do additional work, by outputting the following:\\n\\n<think step by step here>\\n```json\\n{\\n    \"decision\": \"request_additional_info\",\\n    \"message\": \"<your message to the small language model>\"\\n}\\n```\\n'}, {'role': 'assistant', 'content': 'The response from the small language model indicates that there are no functions containing errors in the provided code snippet. Since the task was to identify functions with errors and propose fixes, and the model has confirmed that there are no errors, I can conclude the task.\\n\\n```json\\n{\\n    \"decision\": \"provide_final_answer\", \\n    \"answer\": \"No functions contain errors in the provided code snippet. Therefore, no code fixes are necessary.\"\\n}\\n```'}], 'worker_messages': [{'role': 'system', 'content': 'You will help a user perform the following task.\\n\\nRead the context below and prepare to answer questions from an expert user. \\n### Context\\n--------------------------------------------------\\n\"\"\"This module contains the _EstimatorPrettyPrinter class used in\\nBaseEstimator.__repr__ for pretty-printing estimators\"\"\"\\n\\n# Authors: The scikit-learn developers\\n# SPDX-License-Identifier: BSD-3-Clause\\n\\n# Copyright (c) 2001, 2002, 2003, 2004, 2005, 2006, 2007, 2008, 2009, 2010,\\n# 2011, 2012, 2013, 2014, 2015, 2016, 2017, 2018 Python Software Foundation;\\n# All Rights Reserved\\n\\n# Authors: Fred L. Drake, Jr. <fdrake@acm.org> (built-in CPython pprint module)\\n#          Nicolas Hug (scikit-learn specific changes)\\n\\n# License: PSF License version 2 (see below)\\n\\n# PYTHON SOFTWARE FOUNDATION LICENSE VERSION 2\\n# --------------------------------------------\\n\\n# 1. This LICENSE AGREEMENT is between the Python Software Foundation (\"PSF\"),\\n# and the Individual or Organization (\"Licensee\") accessing and otherwise\\n# using this software (\"Python\") in source or binary form and its associated\\n# documentation.\\n\\n# 2. Subject to the terms and conditions of this License Agreement, PSF hereby\\n# grants Licensee a nonexclusive, royalty-free, world-wide license to\\n# reproduce, analyze, test, perform and/or display publicly, prepare\\n# derivative works, distribute, and otherwise use Python alone or in any\\n# derivative version, provided, however, that PSF\\'s License Agreement and\\n# PSF\\'s notice of copyright, i.e., \"Copyright (c) 2001, 2002, 2003, 2004,\\n# 2005, 2006, 2007, 2008, 2009, 2010, 2011, 2012, 2013, 2014, 2015, 2016,\\n# 2017, 2018 Python Software Foundation; All Rights Reserved\" are retained in\\n# Python alone or in any derivative version prepared by Licensee.\\n\\n# 3. In the event Licensee prepares a derivative work that is based on or\\n# incorporates Python or any part thereof, and wants to make the derivative\\n# work available to others as provided herein, then Licensee hereby agrees to\\n# include in any such work a brief summary of the changes made to Python.\\n\\n# 4. PSF is making Python available to Licensee on an \"AS IS\" basis. PSF MAKES\\n# NO REPRESENTATIONS OR WARRANTIES, EXPRESS OR IMPLIED. BY WAY OF EXAMPLE, BUT\\n# NOT LIMITATION, PSF MAKES NO AND DISCLAIMS ANY REPRESENTATION OR WARRANTY OF\\n# MERCHANTABILITY OR FITNESS FOR ANY PARTICULAR PURPOSE OR THAT THE USE OF\\n# PYTHON WILL NOT INFRINGE ANY THIRD PARTY RIGHTS.\\n\\n# 5. PSF SHALL NOT BE LIABLE TO LICENSEE OR ANY OTHER USERS OF PYTHON FOR ANY\\n# INCIDENTAL, SPECIAL, OR CONSEQUENTIAL DAMAGES OR LOSS AS A RESULT OF\\n# MODIFYING, DISTRIBUTING, OR OTHERWISE USING PYTHON, OR ANY DERIVATIVE\\n# THEREOF, EVEN IF ADVISED OF THE POSSIBILITY THEREOF.\\n\\n# 6. This License Agreement will automatically terminate upon a material\\n# breach of its terms and conditions.\\n\\n# 7. Nothing in this License Agreement shall be deemed to create any\\n# relationship of agency, partnership, or joint venture between PSF and\\n# Licensee. This License Agreement does not grant permission to use PSF\\n# trademarks or trade name in a trademark sense to endorse or promote products\\n# or services of Licensee, or any third party.\\n\\n# 8. By copying, installing or otherwise using Python, Licensee agrees to be\\n# bound by the terms and conditions of this License Agreement.\\n\\n\\n# Brief summary of changes to original code:\\n# - \"compact\" parameter is supported for dicts, not just lists or tuples\\n# - estimators have a custom handler, they\\'re not just treated as objects\\n# - long sequences (lists, tuples, dict items) with more than N elements are\\n#   shortened using ellipsis (\\', ...\\') at the end.\\n\\nimport inspect\\nimport pprint\\n\\nfrom .._config import get_config\\nfrom ..base import BaseEstimator\\nfrom ._missing import is_scalar_nan\\n\\n\\nclass KeyValTuple(tuple):\\n    \"\"\"Dummy class for correctly rendering key-value tuples from dicts.\"\"\"\\n\\n    def __repr__(self):\\n        return super().__repr__()\\n\\n\\nclass KeyValTupleParam(KeyValTuple):\\n    \"\"\"Dummy class for correctly rendering key-value tuples from parameters.\"\"\"\\n    pass\\n\\n\\ndef _changed_params(estimator):\\n    \"\"\"Return dict (param_name: value) of parameters that were given to\\n    estimator with non-default values.\"\"\"\\n\\n    params = estimator.get_params(deep=False)\\n    init_func = getattr(estimator.__init__, \"deprecated_original\", estimator.__init__)\\n    init_params = inspect.signature(init_func).parameters\\n    init_params = {name: param.default for name, param in init_params.items()}\\n\\n    def has_changed(k, v):\\n        if k not in init_params:\\n            return True\\n        if init_params[k] == inspect._empty:\\n            return True\\n        if isinstance(v, BaseEstimator) and v.__class__ == init_params[k].__class__:\\n            return True\\n        if repr(v) != repr(init_params[k]) and not (\\n            is_scalar_nan(init_params[k]) and is_scalar_nan(v)\\n        ):\\n            return True\\n        return False\\n\\n    return {k: v for k, v in params.items() if has_changed(k, v)}\\n\\n\\nclass _EstimatorPrettyPrinter(pprint.PrettyPrinter):\\n    \"\"\"Pretty Printer class for estimator objects.\\n\\n    This extends the pprint.PrettyPrinter class, because:\\n    - we need estimators to be printed with their parameters, e.g.\\n      Estimator(param1=value1, ...) which is not supported by default.\\n    - the \\'compact\\' parameter of PrettyPrinter is ignored for dicts, which\\n      may lead to very long representations that we want to avoid.\\n\\n    Quick overview of pprint.PrettyPrinter (see also\\n    https://stackoverflow.com/questions/49565047/pprint-with-hex-numbers):\\n\\n    - the entry point is the _format() method which calls format() (overridden\\n      here)\\n    - format() directly calls _safe_repr() for a first try at rendering the\\n      object\\n    - _safe_repr formats the whole object recursively, only calling itself,\\n      not caring about line length or anything\\n    - back to _format(), if the output string is too long, _format() then calls\\n      the appropriate _pprint_TYPE() method (e.g. _pprint_list()) depending on\\n      the type of the object. This where the line length and the compact\\n      parameters are taken into account.\\n    - those _pprint_TYPE() methods will internally use the format() method for\\n      rendering the nested objects of an object (e.g. the elements of a list)\\n\\n    In the end, everything has to be implemented twice: in _safe_repr and in\\n    the custom _pprint_TYPE methods. Unfortunately PrettyPrinter is really not\\n    straightforward to extend (especially when we want a compact output), so\\n    the code is a bit convoluted.\\n\\n    This class overrides:\\n    - format() to support the changed_only parameter\\n    - _safe_repr to support printing of estimators (for when they fit on a\\n      single line)\\n    - _format_dict_items so that dict are correctly \\'compacted\\'\\n    - _format_items so that ellipsis is used on long lists and tuples\\n\\n    When estimators cannot be printed on a single line, the builtin _format()\\n    will call _pprint_estimator() because it was registered to do so (see\\n    _dispatch[BaseEstimator.__repr__] = _pprint_estimator).\\n\\n    both _format_dict_items() and _pprint_estimator() use the\\n    _format_params_or_dict_items() method that will format parameters and\\n    key-value pairs respecting the compact parameter. This method needs another\\n    subroutine _pprint_key_val_tuple() used when a parameter or a key-value\\n    pair is too long to fit on a single line. This subroutine is called in\\n    _format() and is registered as well in the _dispatch dict (just like\\n    _pprint_estimator). We had to create the two classes KeyValTuple and\\n    KeyValTupleParam for this.\\n    \"\"\"\\n\\n    def __init__(\\n        self,\\n        indent=1,\\n        width=80,\\n        depth=None,\\n        stream=None,\\n        *,\\n        compact=False,\\n        indent_at_name=True,\\n        n_max_elements_to_show=None,\\n    ):\\n        super().__init__(indent, width, depth, stream, compact=compact)\\n        self._indent_at_name = indent_at_name\\n        if self._indent_at_name:\\n            self._indent_per_level = 1\\n        self._changed_only = get_config().get(\"print_only_changed\", False)\\n        self.n_max_elements_to_show = n_max_elements_to_show\\n\\n    def format(self, object, context, maxlevels, level):\\n        return _safe_repr(\\n            object, context, maxlevels, level, changed_only=self._changed_only\\n        )\\n\\n    def _pprint_estimator(self, object, stream, indent, allowance, context, level):\\n        stream.write(object.__class__.__name__ + \"(\")\\n        if self._indent_at_name:\\n            indent += max(0, len(object.__class__.__name__) - 1)\\n\\n        if self._changed_only:\\n            params = _changed_params(object)\\n        else:\\n            params = object.get_params(deep=False)\\n\\n        self._format_params(\\n            sorted(params.items()), stream, indent, allowance + 1, context, level\\n        )\\n        stream.write(\")\")\\n\\n    def _format_dict_items(self, items, stream, indent, allowance, context, level):\\n        return self._format_params_or_dict_items(\\n            items, stream, indent, allowance, context, level, is_dict=True\\n        )\\n\\n    def _format_params(self, items, stream, indent, allowance, context, level):\\n        return self._format_params_or_dict_items(\\n            items, stream, indent, allowance, context, level, is_dict=False\\n        )\\n\\n    def _format_params_or_dict_items(\\n        self, obj, stream, indent, allowance, context, level, is_dict\\n    ):\\n        \"\"\"Format dict items or parameters respecting the compact=True\\n        parameter. For some reason, the builtin rendering of dict items doesn\\'t\\n        respect compact=True and will use one line per key-value if all cannot\\n        fit in a single line.\\n        Dict items will be rendered as <\\'key\\': value> while params will be\\n        rendered as <key=value>. The implementation is mostly copy/pasting from\\n        the builtin _format_items().\\n        This also adds ellipsis if the number of items is greater than\\n        self.n_max_elements_to_show.\\n        \"\"\"\\n        write = stream.write\\n        indent += self._indent_per_level\\n        delimnl = \",\\\\n\" + \" \" * indent\\n        delim = \"\"\\n        width = max_width = self._width - indent + 1\\n        it = iter(obj)\\n        try:\\n            next_ent = next(it)\\n        except StopIteration:\\n            return\\n        last = False\\n        n_items = 0\\n        while not last:\\n            if self.n_max_elements_to_show is not None and n_items == self.n_max_elements_to_show:\\n                write(\", ...\")\\n                break\\n            n_items += 1\\n            ent = next_ent\\n            try:\\n                next_ent = next(it)\\n            except StopIteration:\\n                last = True\\n                max_width -= allowance\\n                width -= allowance\\n            if self._compact:\\n                k, v = ent\\n                krepr = self._repr(k, context, level)\\n                vrepr = self._repr(v, context, level)\\n                if not is_dict:\\n                    krepr = krepr.strip(\"\\'\")\\n                middle = \": \" if is_dict else \"=\"\\n                rep = krepr + middle + vrepr\\n                w = len(rep) + 2\\n                if width < w / 2:\\n                    width = max_width\\n                    if delim:\\n                        delim = delimnl\\n                if width >= w:\\n                    width -= w\\n                    write(delim)\\n                    delim = \", \"\\n                    write(rep)\\n                    continue\\n            write(delim)\\n            delim = delimnl\\n            class_ = KeyValTuple if is_dict else KeyValTupleParam\\n            self._format(\\n                class_(ent), stream, indent, (1 if last else allowance), context, level\\n            )\\n\\n    def _format_items(self, items, stream, indent, allowance, context, level):\\n        \"\"\"Format the items of an iterable (list, tuple...). Same as the\\n        built-in _format_items, with support for ellipsis if the number of\\n        elements is greater than self.n_max_elements_to_show.\\n        \"\"\"\\n        write = stream.write\\n        indent += self._indent_per_level\\n        if self._indent_per_level > 1:\\n            write((self._indent_per_level - 1) * \" \")\\n        delimnl = \",\\\\n\" + \" \" * indent\\n        delim = \"\"\\n        width = max_width = self._width - indent + 1\\n        it = iter(items)\\n        try:\\n            next_ent = next(it)\\n        except StopIteration:\\n            return\\n        last = False\\n        n_items = 0\\n        while not last:\\n            if self.n_max_elements_to_show is not None and n_items == self.n_max_elements_to_show:\\n                write(\", ...\")\\n                break\\n            n_items += 1\\n            ent = next_ent\\n            try:\\n                next_ent = next(it)\\n            except StopIteration:\\n                last = True\\n                max_width -= allowance\\n                width -= allowance\\n            if self._compact:\\n                rep = self._repr(ent, context, level)\\n                w = len(rep) + 2\\n                if width < w:\\n                    width = max_width\\n                    if delim:\\n                        delim = delimnl\\n                if width >= w:\\n                    width -= w\\n                    write(delim)\\n                    delim = \", \"\\n                    write(rep)\\n                    continue\\n            write(delim)\\n            delim = delimnl\\n            self._format(ent, stream, indent, (1 if last else allowance), context, level)\\n\\n    def _pprint_key_val_tuple(self, object, stream, indent, allowance, context, level):\\n        \"\"\"Pretty printing for key-value tuples from dict or parameters.\"\"\"\\n        k, v = object\\n        rep = self._repr(k, context, level)\\n        if isinstance(object, KeyValTupleParam):\\n            rep = rep.strip(\\'\"\\')\\n            middle = \"=\"\\n        else:\\n            middle = \": \"\\n        stream.write(rep)\\n        stream.write(middle)\\n        self._format(\\n            v, stream, indent + len(rep) + len(middle), allowance, context, level\\n        )\\n\\n    _dispatch = pprint.PrettyPrinter._dispatch.copy()  # type: ignore\\n    _dispatch[BaseEstimator.__repr__] = _pprint_estimator\\n    _dispatch[KeyValTuple.__repr__] = _pprint_key_val_tuple\\n\\n\\ndef _safe_repr(object, context, maxlevels, level, changed_only=False):\\n    \"\"\"Same as the builtin _safe_repr, with added support for Estimator\\n    objects.\"\"\"\\n    typ = type(object)\\n\\n    if typ in pprint._builtin_scalars:\\n        return repr(object), True, False\\n\\n    r = getattr(typ, \"__repr__\", None)\\n    if issubclass(typ, dict) and r is dict.__repr__:\\n        if not object:\\n            return \"{}\", True, False\\n        objid = id(object)\\n        if maxlevels and level >= maxlevels:\\n            return \"{...}\", False, objid in context\\n        if objid in context:\\n            return pprint._recursion(object), False, True\\n        context[objid] = 1\\n        readable = True\\n        recursive = False\\n        components = []\\n        append = components.append\\n        level += 1\\n        items = sorted(object.items(), key=lambda x: str(x))\\n        for k, v in items:\\n            krepr, kreadable, krecur = _safe_repr(\\n                k, context, maxlevels, level, changed_only=changed_only\\n            )\\n            vrepr, vreadable, vrecur = _safe_repr(\\n                v, context, maxlevels, level, changed_only=changed_only\\n            )\\n            append(\"%s: %s\" % (krepr, vrepr))\\n            readable = readable and kreadable and vreadable\\n            if krecur or vrecur:\\n                recursive = True\\n        del context[objid]\\n        return \"{%s}\" % \", \".join(components), readable, recursive\\n\\n    if (issubclass(typ, list) and r is list.__repr__) or (\\n        issubclass(typ, tuple) and r is tuple.__repr__\\n    ):\\n        if issubclass(typ, list):\\n            if not object:\\n                return \"[]\", True, False\\n            format_str = \"[%s]\"\\n        elif len(object) != 1:\\n            format_str = \"(%s,)\"\\n        else:\\n            if not object:\\n                return \"()\", True, False\\n            format_str = \"(%s)\"\\n        objid = id(object)\\n        if maxlevels and level >= maxlevels:\\n            return format_str % \"...\", False, objid in context\\n        if objid in context:\\n            return pprint._recursion(object), False, True\\n        context[objid] = 1\\n        readable = True\\n        recursive = False\\n        components = []\\n        append = components.append\\n        level += 1\\n        for o in object:\\n            orepr, oreadable, orecur = _safe_repr(\\n                o, context, maxlevels, level, changed_only=changed_only\\n            )\\n            append(orepr)\\n            if not oreadable:\\n                readable = False\\n            if orecur:\\n                recursive = True\\n        del context[objid]\\n        return format_str % \", \".join(components), readable, recursive\\n\\n    if issubclass(typ, BaseEstimator):\\n        objid = id(object)\\n        if maxlevels and level >= maxlevels:\\n            return f\"{typ.__name__}(...)\", False, objid in context\\n        if objid in context:\\n            return pprint._recursion(object), False, True\\n        context[objid] = 1\\n        readable = True\\n        recursive = False\\n        if changed_only:\\n            params = _changed_params(object)\\n        else:\\n            params = object.get_params(deep=False)\\n        components = []\\n        append = components.append\\n        level += 1\\n        items = sorted(params.items())\\n        for k, v in items:\\n            krepr, kreadable, krecur = _safe_repr(\\n                k, context, maxlevels, level, changed_only=changed_only\\n            )\\n            vrepr, vreadable, vrecur = _safe_repr(\\n                v, context, maxlevels, level, changed_only=changed_only\\n            )\\n            append(\"%s=%s\" % (krepr.strip(\"\\'\"), vrepr))\\n            readable = readable and kreadable and vreadable\\n            if krecur or vrecur:\\n                recursive = True\\n        del context[objid]\\n        return (\"%s(%s)\" % (typ.__name__, \", \".join(components)), readable, recursive)\\n\\n    rep = repr(object)\\n    return rep, (rep and not rep.startswith(\"<\")), False\\n\\n--------------------------------------------------\\n\\n### Question\\nIdentify all functions that contain any errors in the code. The errors might be logical or there might be multiple errors within one function.\\nYour final answer should start with a list of all functions containing errors. This should then be followed by proposed code fixes (respond with code) for each erroneous function.\\n'}, {'role': 'user', 'content': 'Please list all functions in the code.'}, {'role': 'assistant', 'content': '{ \"explanation\": \"The provided code snippet is a Python script that defines several functions to perform various tasks related to file operations and data manipulation. Here\\'s a breakdown of each function defined in the code:\", \"citation\": \"https://www.example.com/code-snippet\" , \"answer\": \"1. `read_file(file_path)`: This function takes a file path as input and reads the contents of the file, returning it as a string.\\\\n2. `write_file(file_path, content)`: This function writes the given content to the specified file path, overwriting any existing content.\\\\n3. `append_to_file(file_path, content)`: This function appends the given content to the end of the specified file path without removing the existing content.\\\\n4. `copy_file(source_path, destination_path)`: This function copies the contents from a source file to a destination file.\\\\n5. `delete_file(file_path)`: This function deletes the file at the specified file path.\\\\n6. `list_files(directory_path)`: This function lists all files in the specified directory and returns them as a list.\\\\n7. `search_text_in_file(file_path, search_term)`: This function searches for a specific term within a file and returns True if the term is found, otherwise False.\" }'}, {'role': 'user', 'content': 'Please identify any functions from the list that contain errors, and specify the type of errors (logical or otherwise) present in each function.'}, {'role': 'assistant', 'content': '{ \"explanation\": \"The provided code snippet is a Python script that defines a custom pretty printer for `BaseEstimator` objects using the `pprint` module. The script includes functions `_safe_repr`, `_format_items`, and `_pprint_key_val_tuple`. However, there are no logical errors or syntax errors in these functions based on the information provided. They appear to be correctly implemented for their intended purpose of customizing the representation of `BaseEstimator` objects when printed using the `pprint` module.\", \"citation\": \"\" , \"answer\": \"No functions contain errors.\" }'}], 'remote_usage': Usage(completion_tokens=316, prompt_tokens=1983, cached_prompt_tokens=0, seen_prompt_tokens=0), 'local_usage': Usage(completion_tokens=394, prompt_tokens=4112, cached_prompt_tokens=0, seen_prompt_tokens=0)}\n"
     ]
    }
   ],
   "source": [
    "print(output)"
   ]
  },
  {
   "cell_type": "markdown",
   "metadata": {},
   "source": [
    "### Evaluate Performance\n"
   ]
  },
  {
   "cell_type": "code",
   "execution_count": 9,
   "metadata": {},
   "outputs": [],
   "source": [
    "import os\n",
    "os.environ[\"OPENAI_API_KEY\"] = (\n",
    "    f\"{os.getenv('OPENAI_API_KEY')}\"\n",
    ")\n",
    "\n",
    "# MODEL_NAME=\"gpt-4o\"\n",
    "# MODEL_NAME=\"o3-mini\""
   ]
  },
  {
   "cell_type": "code",
   "execution_count": null,
   "metadata": {},
   "outputs": [],
   "source": [
    "from concurrent.futures import ThreadPoolExecutor, as_completed\n",
    "import openai\n",
    "\n",
    "def process_row(ground_truth, minions_text):\n",
    "    \"\"\"\n",
    "    Process a single Python file by evaluating results using GPT.\n",
    "    Returns a tuple of 5 integers: (true positives, true negatives, false positives, false negatives, total number of actual errors)\n",
    "    \"\"\"\n",
    "    \n",
    "    prompt = f\"\"\"Here is the ground truth list of functions containing errors within a codebase:\n",
    "    {ground_truth}.\n",
    "\n",
    "    You are also provided a list of the functions identified by the model:\n",
    "    {minions_text}\n",
    "    \n",
    "    Please return a list of 5 integers in the format [a, b, c, d, e] corresponding to:\n",
    "    (true positives, true negatives, false positives, false negatives, total number of ground truth functions). It is extremely important that only this list is outputted and no other text.\n",
    "    \"\"\"\n",
    "    \n",
    "    client = openai.OpenAI()\n",
    "    response = client.chat.completions.create(\n",
    "        model=\"o3-mini\",\n",
    "        messages=[\n",
    "            {\"role\": \"system\", \"content\": \"You are a helpful assistant that helps evaluate error detection in code.\"},\n",
    "            {\"role\": \"user\", \"content\": prompt}\n",
    "        ]\n",
    "    )\n",
    "    \n",
    "    response_text = response.choices[0].message.content\n",
    "    \n",
    "    return response_text\n",
    "\n",
    "def tabulate_results(df, save_file, max_workers=5):\n",
    "    \"\"\"\n",
    "    Process rows of the dataframe in parallel using process_row\n",
    "    \"\"\"\n",
    "    results = []\n",
    "    with ThreadPoolExecutor(max_workers=max_workers) as executor:\n",
    "        # Create futures for each row using the Buggy Functions and Minions Analysis columns\n",
    "        futures = {\n",
    "            executor.submit(process_row, row['Buggy Functions'], row['Model Analysis']): i \n",
    "            for i, row in df.iterrows()\n",
    "        }\n",
    "        \n",
    "        # Process results as they complete\n",
    "        for future in tqdm(as_completed(futures), total=len(futures)):\n",
    "            try:\n",
    "                result = future.result()\n",
    "                row_idx = futures[future]\n",
    "                results.append((df.iloc[row_idx]['File'], result))\n",
    "            except Exception as e:\n",
    "                row_idx = futures[future]\n",
    "                print(f\"Error processing row {row_idx}: {e}\")\n",
    "    \n",
    "    # Save results\n",
    "    results_df = pd.DataFrame(results, columns=['File', 'Evaluation'])\n",
    "    results_df.to_csv(save_file, index=False)\n",
    "    \n",
    "    print(\"Completed\")\n"
   ]
  },
  {
   "cell_type": "code",
   "execution_count": null,
   "metadata": {},
   "outputs": [],
   "source": [
    "# Read the results CSV file\n",
    "df = pd.read_csv('minion_results.csv')\n",
    "\n",
    "# Run tabulate_results on the dataframe\n",
    "tabulate_results(df, 'minion_evaluations_og.csv', max_workers=8)"
   ]
  },
  {
   "cell_type": "code",
   "execution_count": null,
   "metadata": {},
   "outputs": [],
   "source": [
    "# Read evaluations CSV\n",
    "eval_df = pd.read_csv('minion_evaluations_og.csv') # Sometimes extra whitespace in the csv causes error e.g. \"[a,b,c,d,e] \"\n",
    "\n",
    "# Convert string representation of list to actual list and split into columns\n",
    "eval_df[['true_positives', 'true_negatives', 'false_positives', 'false_negatives', 'total_errors']] = pd.DataFrame(\n",
    "    eval_df['Evaluation'].str.strip('[]').str.split(',').tolist(), \n",
    "    index=eval_df.index\n",
    ").astype(int)\n",
    "\n",
    "# Drop original Evaluation column\n",
    "eval_df = eval_df.drop('Evaluation', axis=1)\n",
    "\n",
    "# Save updated dataframe\n",
    "eval_df.to_csv(f'minion_evaluations-gpt4o.csv', index=False)\n",
    "\n",
    "print(\"Split evaluation column into separate metrics columns\")\n",
    "eval_df.head()\n"
   ]
  },
  {
   "cell_type": "code",
   "execution_count": null,
   "metadata": {},
   "outputs": [],
   "source": [
    "# Calculate precision, recall and F1 score\n",
    "precision = eval_df['true_positives'].sum() / (eval_df['true_positives'].sum() + eval_df['false_positives'].sum())\n",
    "recall = eval_df['true_positives'].sum() / (eval_df['true_positives'].sum() + eval_df['false_negatives'].sum())\n",
    "f1_score = 2 * (precision * recall) / (precision + recall)\n",
    "print(\"Minions Scores with gpt-4o (num rounds=5)\")\n",
    "print(f\"Precision: {precision:.3f}\")\n",
    "print(f\"Recall: {recall:.3f}\") \n",
    "print(f\"F1 Score: {f1_score:.3f}\")"
   ]
  }
 ],
 "metadata": {
  "kernelspec": {
   "display_name": "minions",
   "language": "python",
   "name": "python3"
  },
  "language_info": {
   "codemirror_mode": {
    "name": "ipython",
    "version": 3
   },
   "file_extension": ".py",
   "mimetype": "text/x-python",
   "name": "python",
   "nbconvert_exporter": "python",
   "pygments_lexer": "ipython3",
   "version": "3.10.16"
  }
 },
 "nbformat": 4,
 "nbformat_minor": 2
}
